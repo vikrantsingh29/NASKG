{
 "cells": [
  {
   "cell_type": "code",
   "execution_count": 13,
   "outputs": [
    {
     "name": "stdout",
     "output_type": "stream",
     "text": [
      "Requirement already satisfied: hmmlearn in c:\\users\\vikrant.singh\\pycharmprojects\\naskg\\venv\\lib\\site-packages (0.3.0)\n",
      "Requirement already satisfied: numpy>=1.10 in c:\\users\\vikrant.singh\\pycharmprojects\\naskg\\venv\\lib\\site-packages (from hmmlearn) (1.24.4)\n",
      "Requirement already satisfied: scikit-learn!=0.22.0,>=0.16 in c:\\users\\vikrant.singh\\pycharmprojects\\naskg\\venv\\lib\\site-packages (from hmmlearn) (1.2.2)\n",
      "Requirement already satisfied: scipy>=0.19 in c:\\users\\vikrant.singh\\pycharmprojects\\naskg\\venv\\lib\\site-packages (from hmmlearn) (1.10.1)\n",
      "Requirement already satisfied: joblib>=1.1.1 in c:\\users\\vikrant.singh\\pycharmprojects\\naskg\\venv\\lib\\site-packages (from scikit-learn!=0.22.0,>=0.16->hmmlearn) (1.3.0)\n",
      "Requirement already satisfied: threadpoolctl>=2.0.0 in c:\\users\\vikrant.singh\\pycharmprojects\\naskg\\venv\\lib\\site-packages (from scikit-learn!=0.22.0,>=0.16->hmmlearn) (3.1.0)\n"
     ]
    }
   ],
   "source": [
    "!pip install hmmlearn"
   ],
   "metadata": {
    "collapsed": false,
    "ExecuteTime": {
     "end_time": "2023-09-01T19:38:53.576005400Z",
     "start_time": "2023-09-01T19:38:48.887100500Z"
    }
   }
  },
  {
   "cell_type": "code",
   "execution_count": 16,
   "outputs": [
    {
     "ename": "ModuleNotFoundError",
     "evalue": "No module named 'hmmlearn'",
     "output_type": "error",
     "traceback": [
      "\u001B[1;31m---------------------------------------------------------------------------\u001B[0m",
      "\u001B[1;31mModuleNotFoundError\u001B[0m                       Traceback (most recent call last)",
      "Cell \u001B[1;32mIn[16], line 3\u001B[0m\n\u001B[0;32m      1\u001B[0m \u001B[38;5;28;01mimport\u001B[39;00m \u001B[38;5;21;01mnumpy\u001B[39;00m \u001B[38;5;28;01mas\u001B[39;00m \u001B[38;5;21;01mnp\u001B[39;00m\n\u001B[0;32m      2\u001B[0m \u001B[38;5;28;01mimport\u001B[39;00m \u001B[38;5;21;01mmatplotlib\u001B[39;00m\u001B[38;5;21;01m.\u001B[39;00m\u001B[38;5;21;01mpyplot\u001B[39;00m \u001B[38;5;28;01mas\u001B[39;00m \u001B[38;5;21;01mplt\u001B[39;00m\n\u001B[1;32m----> 3\u001B[0m \u001B[38;5;28;01mfrom\u001B[39;00m \u001B[38;5;21;01mhmmlearn\u001B[39;00m \u001B[38;5;28;01mimport\u001B[39;00m hmm\n\u001B[0;32m      4\u001B[0m \u001B[38;5;28;01mfrom\u001B[39;00m \u001B[38;5;21;01msklearn\u001B[39;00m\u001B[38;5;21;01m.\u001B[39;00m\u001B[38;5;21;01mmodel_selection\u001B[39;00m \u001B[38;5;28;01mimport\u001B[39;00m train_test_split\n\u001B[0;32m      5\u001B[0m \u001B[38;5;28;01mimport\u001B[39;00m \u001B[38;5;21;01mmath\u001B[39;00m\n",
      "\u001B[1;31mModuleNotFoundError\u001B[0m: No module named 'hmmlearn'"
     ]
    }
   ],
   "source": [
    "import numpy as np\n",
    "import matplotlib.pyplot as plt\n",
    "from hmmlearn import hmm\n",
    "from sklearn.model_selection import train_test_split\n",
    "import math\n",
    "import pandas as pd"
   ],
   "metadata": {
    "collapsed": false,
    "ExecuteTime": {
     "end_time": "2023-09-01T19:40:00.122873900Z",
     "start_time": "2023-09-01T19:40:00.006885700Z"
    }
   }
  },
  {
   "cell_type": "code",
   "execution_count": 15,
   "id": "763b0b2f",
   "metadata": {
    "ExecuteTime": {
     "end_time": "2023-09-01T19:39:04.068120600Z",
     "start_time": "2023-09-01T19:39:04.014128600Z"
    }
   },
   "outputs": [
    {
     "ename": "NameError",
     "evalue": "name 'pd' is not defined",
     "output_type": "error",
     "traceback": [
      "\u001B[1;31m---------------------------------------------------------------------------\u001B[0m",
      "\u001B[1;31mNameError\u001B[0m                                 Traceback (most recent call last)",
      "Cell \u001B[1;32mIn[15], line 2\u001B[0m\n\u001B[0;32m      1\u001B[0m \u001B[38;5;66;03m# df = pd.read_fwf(\"C:\\\\Users\\\\vikrant.singh\\\\Downloads\\\\concatenated_text.txt\")\u001B[39;00m\n\u001B[1;32m----> 2\u001B[0m df \u001B[38;5;241m=\u001B[39m \u001B[43mpd\u001B[49m\u001B[38;5;241m.\u001B[39mread_fwf(\u001B[38;5;124m\"\u001B[39m\u001B[38;5;124mC:\u001B[39m\u001B[38;5;130;01m\\\\\u001B[39;00m\u001B[38;5;124mUsers\u001B[39m\u001B[38;5;130;01m\\\\\u001B[39;00m\u001B[38;5;124mvikrant.singh\u001B[39m\u001B[38;5;124m\\\u001B[39m\u001B[38;5;124mDesktop\u001B[39m\u001B[38;5;124m\\\u001B[39m\u001B[38;5;124mdata_vikrant_new\u001B[39m\u001B[38;5;130;01m\\\\\u001B[39;00m\u001B[38;5;124mfiltered_trajectory_data.txt\u001B[39m\u001B[38;5;124m\"\u001B[39m)\n",
      "\u001B[1;31mNameError\u001B[0m: name 'pd' is not defined"
     ]
    }
   ],
   "source": [
    "# df = pd.read_fwf(\"C:\\\\Users\\\\vikrant.singh\\\\Downloads\\\\concatenated_text.txt\")\n",
    "df = pd.read_fwf(\"C:\\\\Users\\\\vikrant.singh\\Desktop\\data_vikrant_new\\\\filtered_trajectory_data.txt\")"
   ]
  },
  {
   "cell_type": "markdown",
   "id": "8282f44f",
   "metadata": {},
   "source": [
    "df = pd.read_fwf(\"C:\\\\Users\\\\vikrant.singh\\\\Downloads\\\\Hidden Markov Model\\\\data_vikrant\\\\data10_16_nrw_8-9.txt\")"
   ]
  },
  {
   "cell_type": "code",
   "execution_count": null,
   "id": "9505b018",
   "metadata": {},
   "outputs": [],
   "source": [
    "df.columns = [\"time\", \"icao24\", \"latlng\"]"
   ]
  },
  {
   "cell_type": "code",
   "execution_count": null,
   "id": "7b0c536d",
   "metadata": {},
   "outputs": [],
   "source": [
    "df2 = pd.concat([df['time'], df['icao24'], df['latlng'].str.split(' ', expand=True)], axis=1)\n",
    "df2.columns = [\"time\", \"icao24\", \"lat\", \"lng\"]\n",
    "df2['lat'] = df2['lat'].astype(float)\n",
    "df2['lng'] = df2['lng'].astype(float)"
   ]
  },
  {
   "cell_type": "code",
   "execution_count": null,
   "id": "431b0c56",
   "metadata": {},
   "outputs": [],
   "source": [
    "d = dict(tuple(df2.groupby(\"icao24\")))\n",
    "grouped_trajectories = df2.groupby('icao24')"
   ]
  },
  {
   "cell_type": "code",
   "execution_count": null,
   "id": "3317f99b",
   "metadata": {},
   "outputs": [],
   "source": [
    "# Create a list to store the trajectories\n",
    "trajectories = []"
   ]
  },
  {
   "cell_type": "code",
   "execution_count": null,
   "id": "2e43eda2",
   "metadata": {},
   "outputs": [],
   "source": [
    "# Iterate over each group (trajectory) and extract lat-lng coordinates\n",
    "for _, group in grouped_trajectories:\n",
    "    trajectory = group[['lat', 'lng']].values\n",
    "    trajectories.append(trajectory)"
   ]
  },
  {
   "cell_type": "code",
   "execution_count": null,
   "id": "1057c1f7",
   "metadata": {},
   "outputs": [],
   "source": [
    "# trajectories = trajectories[200:300]\n",
    "# Function to calculate distance between two points in meters using Haversine formula\n",
    "def haversine(lat1, lon1, lat2, lon2):\n",
    "    R = 6371e3  # Radius of the Earth in meters\n",
    "    phi1 = np.radians(lat1)\n",
    "    phi2 = np.radians(lat2)\n",
    "    delta_phi = np.radians(lat2 - lat1)\n",
    "    delta_lambda = np.radians(lon2 - lon1)\n",
    "\n",
    "    a = np.sin(delta_phi / 2) ** 2 + np.cos(phi1) * np.cos(phi2) * np.sin(delta_lambda / 2) ** 2\n",
    "    c = 2 * np.arctan2(np.sqrt(a), np.sqrt(1 - a))\n",
    "\n",
    "    return R * c"
   ]
  },
  {
   "cell_type": "code",
   "execution_count": null,
   "id": "30fab6e7",
   "metadata": {},
   "outputs": [],
   "source": [
    "desired_length = 20"
   ]
  },
  {
   "cell_type": "code",
   "execution_count": null,
   "id": "48caf6c5",
   "metadata": {},
   "outputs": [],
   "source": [
    "# trajectories = trajectories[100:200]\n",
    "trajectories_19elementsEach = [trajectory[:desired_length] for trajectory in trajectories if\n",
    "                               len(trajectory) >= desired_length]\n",
    "data = trajectories_19elementsEach"
   ]
  },
  {
   "cell_type": "code",
   "execution_count": null,
   "id": "a7cf66fb",
   "metadata": {},
   "outputs": [],
   "source": [
    "new_trajectories = []"
   ]
  },
  {
   "cell_type": "code",
   "execution_count": null,
   "id": "4040a681",
   "metadata": {},
   "outputs": [],
   "source": [
    "# Constants\n",
    "R = 6371e3  # Radius of the Earth in meters\n",
    "time_interval = 120  # Time interval in seconds"
   ]
  },
  {
   "cell_type": "code",
   "execution_count": null,
   "id": "a994313c",
   "metadata": {},
   "outputs": [],
   "source": [
    "for trajectory in data:\n",
    "    new_trajectory = []\n",
    "    prev_lat, prev_lon = None, None\n",
    "    for i, (lat, lon) in enumerate(trajectory):\n",
    "        if i == 0:\n",
    "            # For the first point, distance and speed are 0\n",
    "            distance = 0\n",
    "            speed = 0\n",
    "        else:\n",
    "            # Calculate distance using Haversine formula\n",
    "            phi1 = math.radians(prev_lat)\n",
    "            phi2 = math.radians(lat)\n",
    "            delta_phi = math.radians(lat - prev_lat)\n",
    "            delta_lambda = math.radians(lon - prev_lon)\n",
    "            a = math.sin(delta_phi / 2) ** 2 + math.cos(phi1) * math.cos(phi2) * math.sin(delta_lambda / 2) ** 2\n",
    "            c = 2 * math.atan2(math.sqrt(a), math.sqrt(1 - a))\n",
    "            distance = R * c\n",
    "\n",
    "            # Calculate speed\n",
    "            speed = distance / time_interval\n",
    "\n",
    "        # Append features to new_trajectory\n",
    "        new_trajectory.append([lat, lon, distance, speed])\n",
    "\n",
    "        # Update previous latitude and longitude\n",
    "        prev_lat, prev_lon = lat, lon\n",
    "\n",
    "    # Append the new_trajectory to new_trajectories\n",
    "    new_trajectories.append(np.array(new_trajectory))"
   ]
  },
  {
   "cell_type": "code",
   "execution_count": null,
   "id": "b985f36c",
   "metadata": {},
   "outputs": [],
   "source": [
    "# Split data into training and test sets\n",
    "train_data, test_data = train_test_split(new_trajectories, test_size=0.2, random_state=42)"
   ]
  },
  {
   "cell_type": "code",
   "execution_count": null,
   "id": "7baec824",
   "metadata": {},
   "outputs": [],
   "source": [
    "# Concatenate the training data and keep track of the lengths of individual sequences\n",
    "train_data_concat = np.concatenate(train_data)\n",
    "lengths = [len(trajectory) for trajectory in train_data]"
   ]
  },
  {
   "cell_type": "code",
   "execution_count": null,
   "id": "85236164",
   "metadata": {
    "lines_to_next_cell": 2
   },
   "outputs": [],
   "source": [
    "# Fit the model\n",
    "model = hmm.GaussianHMM(n_components=250, covariance_type=\"tied\", n_iter=400)\n",
    "model.fit(train_data_concat, lengths)"
   ]
  },
  {
   "cell_type": "code",
   "execution_count": null,
   "id": "1b7c88ba",
   "metadata": {},
   "outputs": [],
   "source": [
    "# Prediction and evaluation\n",
    "errors = []\n",
    "euclidean_errors = []\n",
    "last_point_errors = []\n",
    "random_state = np.random.RandomState(15)"
   ]
  },
  {
   "cell_type": "code",
   "execution_count": null,
   "id": "a4c62938",
   "metadata": {},
   "outputs": [],
   "source": []
  },
  {
   "cell_type": "code",
   "execution_count": null,
   "id": "d57e4cd3",
   "metadata": {},
   "outputs": [],
   "source": [
    "import folium\n",
    "from branca.element import Template, MacroElement"
   ]
  },
  {
   "cell_type": "code",
   "execution_count": null,
   "id": "4eea56d3",
   "metadata": {},
   "outputs": [],
   "source": [
    "def plot_trajectory(latitudes_actual, longitudes_actual, latitudes_pred, longitudes_pred, filename):\n",
    "    # Create a map centered around the first coordinate\n",
    "    m = folium.Map(location=[latitudes_actual[0], longitudes_actual[0]], zoom_start=13)\n",
    "\n",
    "    # Add lines for the given, predicted, and actual trajectories\n",
    "    folium.PolyLine([(lat, lon) for lat, lon in zip(latitudes_actual[:14], longitudes_actual[:14])], color=\"blue\",\n",
    "                    weight=2.5, opacity=1, label='Given').add_to(m)\n",
    "    folium.PolyLine([(lat, lon) for lat, lon in\n",
    "                     zip(latitudes_actual[13:14] + latitudes_pred, longitudes_actual[13:14] + longitudes_pred)],\n",
    "                    color=\"red\", weight=2.5, opacity=1, label='Predicted').add_to(m)\n",
    "    folium.PolyLine([(lat, lon) for lat, lon in zip(latitudes_actual[13:], longitudes_actual[13:])], color=\"green\",\n",
    "                    weight=2.5, opacity=1, label='Actual').add_to(m)\n",
    "\n",
    "    # Add a legend\n",
    "    template = \"\"\"\n",
    "    {% macro html(this, kwargs) %}\n",
    "    <!doctype html>\n",
    "    <html lang=\"en\">\n",
    "    <head>\n",
    "      <meta charset=\"utf-8\">\n",
    "      <meta name=\"viewport\" content=\"width=device-width, initial-scale=1\">\n",
    "      <link rel=\"stylesheet\" href=\"https://maxcdn.bootstrapcdn.com/bootstrap/3.3.7/css/bootstrap.min.css\">\n",
    "      <script src=\"https://code.jquery.com/jquery-1.12.4.min.js\"></script>\n",
    "      <script src=\"https://maxcdn.bootstrapcdn.com/bootstrap/3.3.7/js/bootstrap.min.js\"></script>\n",
    "    </head>\n",
    "    <body>\n",
    "    <div id=\"maplegend\" class=\"maplegend\" \n",
    "        style=\"position: absolute; z-index:9999; border:2px solid grey; background-color:rgba(255, 255, 255, 0.8);\n",
    "         border-radius:6px; padding: 10px; font-size:14px; right: 20px; bottom: 20px;\">\n",
    "\n",
    "    <div class=\"legend-title\">Legend</div>\n",
    "    <div class=\"legend-scale\">\n",
    "      <ul class=\"legend-labels\">\n",
    "        <li><span style='color:blue;opacity:1;'></span>Given</li>\n",
    "        <li><span style='color:red;opacity:1;'></span>Predicted</li>\n",
    "        <li><span style='color:green;opacity:1;'></span>Actual</li>\n",
    "\n",
    "      </ul>\n",
    "    </div>\n",
    "    </div>\n",
    "\n",
    "    </body>\n",
    "    </html>\n",
    "\n",
    "    <style type='text/css'>\n",
    "      .maplegend .legend-title {\n",
    "        text-align: left;\n",
    "        margin-bottom: 5px;\n",
    "        font-weight: bold;\n",
    "        font-size: 90%;\n",
    "        }\n",
    "      .maplegend .legend-scale ul {\n",
    "        margin: 0;\n",
    "        margin-bottom: 5px;\n",
    "        padding: 0;\n",
    "        float: left;\n",
    "        list-style: none;\n",
    "        }\n",
    "      .maplegend .legend-scale ul li {\n",
    "        font-size: 80%;\n",
    "        list-style: none;\n",
    "        margin-left: 0;\n",
    "        line-height: 18px;\n",
    "        margin-bottom: 2px;\n",
    "        }\n",
    "      .maplegend ul.legend-labels li span {\n",
    "        display: block;\n",
    "        float: left;\n",
    "        height: 16px;\n",
    "        width: 30px;\n",
    "        margin-right: 5px;\n",
    "        margin-left: 0;\n",
    "        border: 1px solid #999;\n",
    "        }\n",
    "      .maplegend .legend-source {\n",
    "        font-size: 80%;\n",
    "        color: #777;\n",
    "        clear: both;\n",
    "        }\n",
    "      .maplegend a {\n",
    "        color: #777;\n",
    "        }\n",
    "    </style>\n",
    "    {% endmacro %}\"\"\"\n",
    "\n",
    "    macro = MacroElement()\n",
    "    macro._template = Template(template)\n",
    "\n",
    "    m.get_root().add_child(macro)\n",
    "\n",
    "    # Save the map to an HTML file\n",
    "    m.save(filename)\n",
    "\n",
    "    # Display the map\n",
    "    return m"
   ]
  },
  {
   "cell_type": "code",
   "execution_count": null,
   "id": "f0e9658b",
   "metadata": {},
   "outputs": [],
   "source": [
    "for trajectory in test_data:\n",
    "    # Start with the first 14 points\n",
    "    trajectory_to_predict = trajectory[:14]\n",
    "\n",
    "    latitudes_pred = []\n",
    "    longitudes_pred = []\n",
    "    distances_pred = []\n",
    "    speeds_pred = []\n",
    "    latitudes_actual = list(trajectory[:14, 0])\n",
    "    longitudes_actual = list(trajectory[:14, 1])\n",
    "    distances_actual = list(trajectory[:14, 2])\n",
    "    speeds_actual = list(trajectory[:14, 3])\n",
    "\n",
    "    # Generate the next 6 points\n",
    "    for i in range(6):\n",
    "        # Predict the sequence of hidden states for the past trajectory\n",
    "        past_states = model.predict(trajectory_to_predict)\n",
    "\n",
    "        # Get the last hidden state\n",
    "        last_state = past_states[-1]\n",
    "\n",
    "        # The next state would be the one that has the highest transition probability from the last state\n",
    "        next_state = np.argmax(model.transmat_[last_state])\n",
    "\n",
    "        # Generate an observation from this next state\n",
    "        next_observation = model._generate_sample_from_state(next_state, random_state=random_state)\n",
    "\n",
    "        # Add the generated observation to the trajectory\n",
    "        trajectory_to_predict = np.concatenate([trajectory_to_predict, [next_observation]])\n",
    "\n",
    "        # Extract the predicted latitude, longitude, distance, and speed\n",
    "        lat_pred, lon_pred, distance_pred, speed_pred = next_observation\n",
    "\n",
    "        # Extract the actual latitude, longitude, distance, and speed for the corresponding point\n",
    "        lat_actual, lon_actual, distance_actual, speed_actual = trajectory[14 + i]\n",
    "\n",
    "        # Calculate errors\n",
    "        error_lat = abs(lat_pred - lat_actual)\n",
    "        error_lon = abs(lon_pred - lon_actual)\n",
    "        error_distance = abs(distance_pred - distance_actual)\n",
    "        error_speed = abs(speed_pred - speed_actual)\n",
    "        errors.append([error_lat, error_lon, error_distance, error_speed])\n",
    "\n",
    "        # Calculate the Euclidean distance error and append it to the list\n",
    "        euclidean_error = np.sqrt((lat_pred - lat_actual) ** 2 + (lon_pred - lon_actual) ** 2)\n",
    "        euclidean_errors.append(euclidean_error)\n",
    "\n",
    "        # Store values for plotting\n",
    "        latitudes_pred.append(lat_pred)\n",
    "        longitudes_pred.append(lon_pred)\n",
    "        distances_pred.append(distance_pred)\n",
    "        speeds_pred.append(speed_pred)\n",
    "        latitudes_actual.append(lat_actual)\n",
    "        longitudes_actual.append(lon_actual)\n",
    "        distances_actual.append(distance_actual)\n",
    "        speeds_actual.append(speed_actual)\n",
    "\n",
    "    # Calculate the error of the last point and append it to the list\n",
    "    last_point_error = np.sqrt(\n",
    "        (latitudes_pred[-1] - latitudes_actual[-1]) ** 2 + (longitudes_pred[-1] - longitudes_actual[-1]) ** 2)\n",
    "    # print(\"Last point ,Predicted , Actual \", latitudes_pred[-1], latitudes_actual[-1], longitudes_pred[-1],\n",
    "    #       longitudes_actual[-1])\n",
    "    last_point_errors.append(last_point_error)\n",
    "\n",
    "    plot_trajectory(latitudes_actual, longitudes_actual, latitudes_pred, longitudes_pred, f'trajectory_map_{i}.html')\n",
    "    # # Plotting\n",
    "    # plt.figure(figsize=(10, 5))\n",
    "    #\n",
    "    # # Plot latitudes and longitudes\n",
    "    # plt.subplot(1, 2, 1)\n",
    "    # plt.plot(longitudes_actual[:14], latitudes_actual[:14], 'bo-', label='Given')\n",
    "    # plt.plot(longitudes_actual[13:14] + longitudes_pred, latitudes_actual[13:14] + latitudes_pred, 'ro-',\n",
    "    #          label='Predicted')\n",
    "    # plt.plot(longitudes_actual[13:], latitudes_actual[13:], 'go-', label='Actual',)\n",
    "    # plt.xlabel('Longitude')\n",
    "    # plt.ylabel('Latitude')\n",
    "    # plt.legend()\n",
    "    # plt.title('Latitude and Longitude')\n",
    "    #\n",
    "    # # Plot distances and speeds\n",
    "    # plt.subplot(1, 2, 2)\n",
    "    # plt.plot(distances_actual[:14], speeds_actual[:14], 'bo-', label='Given')\n",
    "    # plt.plot(distances_actual[13:], speeds_actual[13:], 'go-', label='Actual')\n",
    "    # plt.plot(distances_actual[13:14] + distances_pred, speeds_actual[13:14] + speeds_pred, 'ro-', label='Predicted')\n",
    "    # plt.xlabel('Distance')\n",
    "    # plt.ylabel('Speed')\n",
    "    # plt.legend()\n",
    "    # plt.title('Distance and Speed')\n",
    "    #\n",
    "    # plt.tight_layout()\n",
    "    # plt.show()"
   ]
  },
  {
   "cell_type": "code",
   "execution_count": null,
   "id": "308c4768",
   "metadata": {},
   "outputs": [],
   "source": [
    "# Calculate average Euclidean error\n",
    "average_euclidean_error = np.mean(euclidean_errors)\n",
    "print(f\"Average Euclidean Error: {average_euclidean_error}\")"
   ]
  },
  {
   "cell_type": "code",
   "execution_count": null,
   "id": "69cb0442",
   "metadata": {},
   "outputs": [],
   "source": [
    "# Calculate average last point error\n",
    "average_last_point_error = np.mean(last_point_errors)\n",
    "print(f\"Average Last Point Error: {average_last_point_error}\")"
   ]
  }
 ],
 "metadata": {
  "jupytext": {
   "cell_metadata_filter": "-all",
   "main_language": "python",
   "notebook_metadata_filter": "-all"
  },
  "kernelspec": {
   "name": "python3",
   "language": "python",
   "display_name": "Python 3 (ipykernel)"
  }
 },
 "nbformat": 4,
 "nbformat_minor": 5
}
